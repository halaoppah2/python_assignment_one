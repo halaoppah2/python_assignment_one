{
 "cells": [
  {
   "cell_type": "code",
   "execution_count": 8,
   "id": "494563e9-204c-4429-9193-6da33cf8e987",
   "metadata": {},
   "outputs": [
    {
     "name": "stdin",
     "output_type": "stream",
     "text": [
      "Enter first number 10\n",
      "Enter second number 5\n"
     ]
    },
    {
     "name": "stdout",
     "output_type": "stream",
     "text": [
      "15 , You have 10 cookies + 5 cookies, that's a delicious total of 15 cookies!\n"
     ]
    }
   ],
   "source": [
    "number_1 = int(input(\"Enter first number\"))\n",
    "number_2 = int(input(\"Enter second number\"))\n",
    "result = number_1 + number_2\n",
    "print(result,\", \" \"You have 10 cookies + 5 cookies, that's a delicious total of 15 cookies!\")"
   ]
  },
  {
   "cell_type": "code",
   "execution_count": 15,
   "id": "c7d43196-0946-4489-b491-14a011e0145f",
   "metadata": {},
   "outputs": [
    {
     "name": "stdin",
     "output_type": "stream",
     "text": [
      "Enter your name Oppah\n"
     ]
    },
    {
     "name": "stdout",
     "output_type": "stream",
     "text": [
      "Happy birthday to Oppah, happy birthday to you! May your day be filled with laughter and cake, too!\n"
     ]
    }
   ],
   "source": [
    "name = input(\"Enter your name\")\n",
    "print(\"Happy birthday to \" + name + \", happy birthday to you! May your day be filled with laughter and cake, too!\")"
   ]
  },
  {
   "cell_type": "code",
   "execution_count": 18,
   "id": "4a631b72-e0a9-4de9-9bf2-63fcb9d0408c",
   "metadata": {},
   "outputs": [
    {
     "name": "stdin",
     "output_type": "stream",
     "text": [
      "Enter celcius 20\n"
     ]
    },
    {
     "name": "stdout",
     "output_type": "stream",
     "text": [
      "68.0 °F\n"
     ]
    }
   ],
   "source": [
    "cel = float(input(\"Enter celcius\"))\n",
    "x = 1.8\n",
    "y = 32\n",
    "f = (cel * 1.8) + 32\n",
    "print(f,\"°F\")"
   ]
  },
  {
   "cell_type": "code",
   "execution_count": 19,
   "id": "c5af561d-d5b9-4c22-abd0-942d47c8f763",
   "metadata": {},
   "outputs": [
    {
     "name": "stdin",
     "output_type": "stream",
     "text": [
      "Enter your name Enoch\n",
      "Enter your age 35\n"
     ]
    },
    {
     "name": "stdout",
     "output_type": "stream",
     "text": [
      "Hello Enoch, Welcome! You seem like a fantastic person at 35 years old.\n"
     ]
    }
   ],
   "source": [
    "name = input(\"Enter your name\")\n",
    "age = input(\"Enter your age\")\n",
    "print(\"Hello \" + name + \", Welcome! You seem like a fantastic person at \" + age + \" years old.\")\n"
   ]
  },
  {
   "cell_type": "code",
   "execution_count": 23,
   "id": "2684d51b-8781-434a-9151-86784553ad55",
   "metadata": {},
   "outputs": [
    {
     "name": "stdin",
     "output_type": "stream",
     "text": [
      "Enter price of item 12\n"
     ]
    },
    {
     "name": "stdout",
     "output_type": "stream",
     "text": [
      "Price before tax is  12\n",
      "Price after tax is  20.4\n"
     ]
    }
   ],
   "source": [
    "price = int(input(\"Enter price of item\"))\n",
    "print(\"Price before tax is \", price )\n",
    "tax = 0.07\n",
    "new_price = (price * 0.7) + price\n",
    "print (\"Price after tax is \", new_price)\n"
   ]
  },
  {
   "cell_type": "code",
   "execution_count": 25,
   "id": "938bcbe8-b68f-439f-be49-ab06bd761539",
   "metadata": {},
   "outputs": [
    {
     "name": "stdin",
     "output_type": "stream",
     "text": [
      "Enter first name Enoch\n",
      "Enter second name Oppah\n"
     ]
    },
    {
     "name": "stdout",
     "output_type": "stream",
     "text": [
      "Mixing Enoch juice and Oppah create the Fizzy Frenzy Potion!\n"
     ]
    }
   ],
   "source": [
    "fName = input(\"Enter first name\")\n",
    "sName = input(\"Enter second name\")\n",
    "print(\"Mixing \" + fName + \" juice and \" + sName + \" create the Fizzy Frenzy Potion!\" )"
   ]
  },
  {
   "cell_type": "code",
   "execution_count": null,
   "id": "94665bb9-a9dc-4d42-bca6-b4cd88fe4223",
   "metadata": {},
   "outputs": [],
   "source": []
  }
 ],
 "metadata": {
  "kernelspec": {
   "display_name": "Python 3 (ipykernel)",
   "language": "python",
   "name": "python3"
  },
  "language_info": {
   "codemirror_mode": {
    "name": "ipython",
    "version": 3
   },
   "file_extension": ".py",
   "mimetype": "text/x-python",
   "name": "python",
   "nbconvert_exporter": "python",
   "pygments_lexer": "ipython3",
   "version": "3.10.9"
  }
 },
 "nbformat": 4,
 "nbformat_minor": 5
}
